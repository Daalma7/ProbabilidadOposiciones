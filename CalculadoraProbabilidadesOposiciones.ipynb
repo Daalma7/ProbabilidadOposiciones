{
  "nbformat": 4,
  "nbformat_minor": 0,
  "metadata": {
    "colab": {
      "provenance": [],
      "authorship_tag": "ABX9TyPq/wRPw8gpFXpn/cPZo+4h",
      "include_colab_link": true
    },
    "kernelspec": {
      "name": "python3",
      "display_name": "Python 3"
    },
    "language_info": {
      "name": "python"
    }
  },
  "cells": [
    {
      "cell_type": "markdown",
      "metadata": {
        "id": "view-in-github",
        "colab_type": "text"
      },
      "source": [
        "<a href=\"https://colab.research.google.com/github/Daalma7/ProbabilidadOposiciones/blob/main/CalculadoraProbabilidadesOposiciones.ipynb\" target=\"_parent\"><img src=\"https://colab.research.google.com/assets/colab-badge.svg\" alt=\"Open In Colab\"/></a>"
      ]
    },
    {
      "cell_type": "markdown",
      "source": [
        "# Calculadora de probabilidades para oposiciones // exámenes donde los temas se extraigan por sorteo\n",
        "\n",
        "¡Hola! Este es un pequeño proyecto donde podrás calcular la probabilidad de que aparezca al menos 1 tema estudiado en un exámen donde haya un determinado número de temas y se extraigan un subconjunto de ellos para desarrollar.\n",
        "\n",
        "Para que tú puedas calcular dicha probabilidad, dejo aquí la fórmula. Habiendo $N$ temas, extrayendo $n$ bolas y habiéndote estudiado $x$ temas, la probabilidad de que al menos salga uno es:\n",
        "\n",
        "$$P[\\text{Al menos uno}]= 1-\\prod_{i=0}^{n-1} \\frac{N-x-i}{N-i} $$\n",
        "\n",
        "Como ejemplo, si hay 100 temas, estudias 20 y se extraen 4 bolas, la probabilidad sería:\n",
        "\n",
        "$$P[\\text{Al menos uno}]= 1-\\prod_{i=0}^{4-1} \\frac{100-20-i}{100-i}=1-\\prod_{i=0}^{3} \\frac{80-i}{100-i}=1-\\left(\\frac{80}{100}\\times \\frac{79}{99}\\times \\frac{78}{98}\\times \\frac{77}{97} \\right)\\approx 0.5967 \\text{ (Un 59.67%) }$$  \n",
        "\n",
        "\n",
        "Además, en el código también se calcula una cantidad \"óptima\" de temas a estudiar. Esta cantidad, también llamada \"punto de rodilla\" o \"knee point\" es la cantidad de temas a partir de la cual, si se estudia un tema más, se consigue un incremento en la probabilidad menor a la proporción que supone estudiar dicho tema.  \n",
        "\n",
        "Por ejemplo, si tenemos $N=100$ temas, estudiar un tema supone estudiar un $1\\%$ del total de temas. La cantidad de temas óptima de temas a estudiar será aquella que al estudiar un tema más (estudiando un $1\\%$ más de temas) suponga un incremento en la probabilidad de que aparezca al menos un tema de los estudiados menor a un $1\\%$.\n",
        "\n",
        "AVISO: Esta cantidad \"óptima\" de temas no es la \"mejor\". A más temas estudies, más probabilidades tendrás de no salir con el examen en blanco siempre ;)\n",
        "\n",
        "---  "
      ],
      "metadata": {
        "id": "BRYAEchNZjBI"
      }
    },
    {
      "cell_type": "markdown",
      "source": [
        "Para calcular tus probabilidaes, introduce la cantidad de temas, y el número de temas (bolas) que se extraen."
      ],
      "metadata": {
        "id": "-w-9OA2wdpxD"
      }
    },
    {
      "cell_type": "code",
      "source": [
        "NUM_TEMAS = # Introduce antes del \"#\" el número de temas totales (por ejemplo, 100)\n",
        "NUM_BOLAS = #Introduce antes del \"#\" el número de temas que se extraen (por ejemplo, 4)"
      ],
      "metadata": {
        "id": "NIamYhxQeVGr"
      },
      "execution_count": 14,
      "outputs": []
    },
    {
      "cell_type": "markdown",
      "source": [
        "Tras especificarlo, en la barra superior selecciona: Entorno de ejecución &rarr; Ejecutar todas."
      ],
      "metadata": {
        "id": "J2NuRNZ2eyrV"
      }
    },
    {
      "cell_type": "code",
      "execution_count": 15,
      "metadata": {
        "cellView": "form",
        "id": "R411B4jBZe_G"
      },
      "outputs": [],
      "source": [
        "#@title Importe de librerías necesarias y cálculo de probabilidades y óptimo\n",
        "import pandas as pd\n",
        "import numpy as np\n",
        "import seaborn as sns\n",
        "import matplotlib.pyplot as plt\n",
        "import matplotlib as mpl\n",
        "sns.set_theme()\n",
        "\n",
        "dict_probs = {}\n",
        "dict_acum = {}\n",
        "\n",
        "punto_optimo_medio = None\n",
        "optimo_medio_aux = 100.0 / NUM_TEMAS\n",
        "\n",
        "for i in range(NUM_TEMAS + 1):\n",
        "    if i == 0:\n",
        "        dict_probs[i] = 0\n",
        "    else:\n",
        "        dict_probs[i] = 100 * (1 - np.prod([float(NUM_TEMAS - i - j) / float(NUM_TEMAS - j) for j in range(0, NUM_BOLAS)]))\n",
        "        dict_acum[i] = dict_probs[i] - dict_probs[i-1]\n",
        "        if dict_acum[i] < optimo_medio_aux and punto_optimo_medio is None:\n",
        "            punto_optimo_medio = i-1"
      ]
    },
    {
      "cell_type": "code",
      "source": [
        "#@title Gráfico de probabilidades de que caiga al menos un tema estudiado habiendo estudiado X número de temas\n",
        "probs_df = pd.DataFrame(dict_probs.items(), columns=['Temas', 'Porcentaje'])\n",
        "cmap = mpl.colormaps.get_cmap('Blues')\n",
        "\n",
        "sns.lineplot(x=[-1.0, NUM_TEMAS+1], y=[70.0, 70.0], color=cmap(0.7), linewidth=1.0, linestyle='dashed')\n",
        "sns.lineplot(x=[-1.0, NUM_TEMAS+1], y=[80.0, 80.0], color=cmap(0.8), linewidth=1.0, linestyle='dashed')\n",
        "sns.lineplot(x=[-1.0, NUM_TEMAS+1], y=[90.0, 90.0], color=cmap(0.9), linewidth=1.0, linestyle='dashed')\n",
        "sns.lineplot(x=[-1.0, NUM_TEMAS+1], y=[95.0, 95.0], color=cmap(0.95), linewidth=1.0, linestyle='dashed')\n",
        "sns.lineplot(x=[-1.0, NUM_TEMAS+1], y=[98.0, 98.0], color=cmap(0.98), linewidth=1.0, linestyle='dashed')\n",
        "sns.scatterplot(x=[punto_optimo_medio], y=[dict_probs[punto_optimo_medio]], s=300, color=\"green\", marker=\"+\", label=\"Rodilla\")\n",
        "sns.scatterplot(data=probs_df, x=\"Temas\", y=\"Porcentaje\", s=100, color=\"blue\", marker=\".\", label=\"Probabilidad\")\n",
        "\n",
        "plt.yticks([0, 10, 20, 30, 40, 50, 60, 70, 80, 90, 95, 98, 100], [0, 10, 20, 30, 40, 50, 60, 70, 80, 90, 95, 98, 100])\n",
        "plt.xticks([x for x in range(0, NUM_TEMAS+1, int(round(NUM_TEMAS+1, -2)/20))], [x for x in range(0, NUM_TEMAS+1, int(round(NUM_TEMAS+1, -2)/20))])\n",
        "plt.gca().yaxis.set_major_formatter(\n",
        "    plt.FuncFormatter(lambda y, _: '{:.0%}'.format(y/100))\n",
        ")\n",
        "plt.yticks(fontsize=7)\n",
        "handles, labels = plt.gca().get_legend_handles_labels()\n",
        "order = [1, 0]\n",
        "plt.legend([handles[idx] for idx in order],[labels[idx] for idx in order],loc=\"lower right\")\n",
        "plt.xlabel(\"Cantidad de temas estudiados\")\n",
        "plt.xlim([-1, NUM_TEMAS+1])\n",
        "plt.ylabel(\"Porcentaje de que aparezca al\\nmenos uno de los estudiados\")\n",
        "plt.ylim([-1, 101])\n",
        "plt.title(\"Probabilidades de que caiga al menos un tema estudiado\\nhabiendo estudiado X número de temas\")\n",
        "plt.show()"
      ],
      "metadata": {
        "cellView": "form",
        "id": "80YyUszZfH1y"
      },
      "execution_count": null,
      "outputs": []
    },
    {
      "cell_type": "code",
      "source": [
        "#@title Gráfico de mejora en probabilidad estudiando un tema más frente a estudiar un tema menos\n",
        "if dict_acum[1] > 5:\n",
        "    sns.lineplot(x=[-1.0, NUM_TEMAS+1], y=[5.0, 5.0], color=cmap(0.7), linewidth=1.0, linestyle='dashed')\n",
        "if dict_acum[1] > 3:\n",
        "    sns.lineplot(x=[-1.0, NUM_TEMAS+1], y=[3.0, 3.0], color=cmap(0.8), linewidth=1.0, linestyle='dashed')\n",
        "if dict_acum[1] > 2:\n",
        "    sns.lineplot(x=[-1.0, NUM_TEMAS+1], y=[2.0, 2.0], color=cmap(0.9), linewidth=1.0, linestyle='dashed')\n",
        "if dict_acum[1] > 1:\n",
        "    sns.lineplot(x=[-1.0, NUM_TEMAS+1], y=[1.0, 1.0], color=cmap(0.95), linewidth=1.0, linestyle='dashed')\n",
        "if dict_acum[1] > 0.5:\n",
        "    sns.lineplot(x=[-1.0, NUM_TEMAS+1], y=[0.5, 0.5], color=cmap(0.98), linewidth=1.0, linestyle='dashed')\n",
        "probs_df = pd.DataFrame(dict_acum.items(), columns=['Temas', 'Porcentaje'])\n",
        "sns.scatterplot(x=[punto_optimo_medio], y=[dict_acum[punto_optimo_medio]], s=300, color=\"green\", marker=\"+\", label=\"Rodilla\")\n",
        "sns.scatterplot(data=probs_df, x=\"Temas\", y=\"Porcentaje\", s=100, color=\"orange\", marker=\".\", label=\"Probabilidad\")\n",
        "plt.yticks([x/2.0 for x in range(int(dict_acum[1]*2), -1, -1)], [x/2.0 for x in range(int(dict_acum[1]*2), -1, -1)])\n",
        "plt.xticks([x for x in range(0, NUM_TEMAS+1, int(round(NUM_TEMAS+1, -2)/20))], [x for x in range(0, NUM_TEMAS+1, int(round(NUM_TEMAS+1, -2)/20))])\n",
        "plt.gca().yaxis.set_major_formatter(\n",
        "    plt.FuncFormatter(lambda y, _: '{:+.1%}'.format(y/100))\n",
        ")\n",
        "plt.yticks(fontsize=7)\n",
        "handles, labels = plt.gca().get_legend_handles_labels()\n",
        "order = [1,0]\n",
        "plt.legend([handles[idx] for idx in order],[labels[idx] for idx in order],loc=\"upper right\")\n",
        "plt.xlabel(\"Cantidad de temas estudiados\")\n",
        "plt.xlim([-1, NUM_TEMAS+1])\n",
        "plt.ylabel(\"Mejora en porcentaje frente\\na estudiar un tema menos\")\n",
        "plt.title(\"Mejora de probabilidad de que aparezca al menos un tema estudiado\\nal estudiar X temas frente a haber estudiado X-1 temas:\")\n",
        "plt.show()"
      ],
      "metadata": {
        "cellView": "form",
        "id": "ohPMzM0ifK8s"
      },
      "execution_count": null,
      "outputs": []
    },
    {
      "cell_type": "code",
      "source": [
        "#@title Tabla completa con todas las probabilidades de que caiga al menos un tema estudiado, habiendo estudiado X número de temas\n",
        "print(f\"\\nProbabilidades de que caiga al menos un tema estudiado, habiendo estudiado X número de temas:\\n\")\n",
        "print(\"+-------+------------+\")\n",
        "print(\"| Temas | Porcentaje |\")\n",
        "print(\"+-------+------------+\")\n",
        "for i in range(NUM_TEMAS + 1):\n",
        "    print(f\"| {i:>{5}} | {dict_probs[i]:>{9}.5f}% |\")\n",
        "print(\"+-------+------------+\")"
      ],
      "metadata": {
        "cellView": "form",
        "id": "y_4rgYJFfLl5"
      },
      "execution_count": null,
      "outputs": []
    },
    {
      "cell_type": "code",
      "source": [
        "#@title Tabla completa con todas las mejoras en probabilidad si estudias X temas frente a estudiar X-1 temas\n",
        "print(f\"\\nMejora de porcentaje de que aparezca al menos un tema estudiado al estudiar X temas frente a haber estudiado X-1 temas:\\n\")\n",
        "print(\"+-------+------------+\")\n",
        "print(\"| Temas | Mejora Pr. |\")\n",
        "print(\"+-------+------------+\")\n",
        "for i in range(1,NUM_TEMAS + 1):\n",
        "    print(f\"| {i:>{5}} | {dict_acum[i]:>{9}.5f}% |\")\n",
        "print(\"+-------+------------+\")"
      ],
      "metadata": {
        "cellView": "form",
        "id": "E6LaH533fPXP"
      },
      "execution_count": null,
      "outputs": []
    },
    {
      "cell_type": "markdown",
      "source": [
        "¡Gracias por utilizarme!  \n",
        "\n",
        "Créditos: David Villar Martos ([Link a Github](https://github.com/Daalma7))"
      ],
      "metadata": {
        "id": "HY93IS3ChL_9"
      }
    },
    {
      "cell_type": "markdown",
      "source": [],
      "metadata": {
        "id": "dT-UpvtMd0xm"
      }
    }
  ]
}